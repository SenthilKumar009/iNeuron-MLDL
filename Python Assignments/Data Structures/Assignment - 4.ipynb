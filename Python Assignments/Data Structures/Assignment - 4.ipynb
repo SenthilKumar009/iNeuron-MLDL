{
 "cells": [
  {
   "cell_type": "markdown",
   "metadata": {},
   "source": [
    "1.1 Write a Python Program(with class concepts) to find the area of the triangle using the below\n",
    "formula.\n",
    "\n",
    "area = (s*(s-a)*(s-b)*(s-c)) ** 0.5\n",
    "\n",
    "Function to take the length of the sides of triangle from user should be defined in the parent\n",
    "class and function to calculate the area should be defined in subclass."
   ]
  },
  {
   "cell_type": "code",
   "execution_count": 1,
   "metadata": {},
   "outputs": [
    {
     "name": "stdout",
     "output_type": "stream",
     "text": [
      "Enter Side 1 of triangle: 2\n",
      "Enter Side 2 of triangle: 3\n",
      "Enter Side 3 of triangle: 3\n",
      "The area of the triangle is: 8.0\n",
      "\n"
     ]
    }
   ],
   "source": [
    "import math\n",
    "class triangleDimension:\n",
    "    def __init__(self, a, b, c):\n",
    "        self.a = a\n",
    "        self.b = b\n",
    "        self.c = c\n",
    "        self.s = (self.a + self.b + self.c)/2.0\n",
    "\n",
    "#Check if the given measurements form a triangle\n",
    "    def checkTriangle(self):\n",
    "        if (self.a + self.b > self.c) & (self.b + self.c > self.a) & (self.a + self.c > self.b):\n",
    "            return (\"Perimeter of the triangle is %f\" %self.s)\n",
    "        else : \n",
    "            return(\"not the right triangle proportions\") \n",
    "\n",
    "class calculateTriangle(triangleDimension):\n",
    "    def calculateArea(self):\n",
    "        #triangleDimension.__init__(self)\n",
    "        area = (self.s * (self.s - self.a) * (self.s - self.b) * (self.s - self.c))\n",
    "        print(\"The area of the triangle is: {}\".format(area))\n",
    "\n",
    "\n",
    "#p=Triangledim(7,5,10)\n",
    "\n",
    "\n",
    "if __name__ == \"__main__\":\n",
    "    a = int(input(\"Enter Side 1 of triangle: \"))\n",
    "    b = int(input(\"Enter Side 2 of triangle: \"))\n",
    "    c = int(input(\"Enter Side 3 of triangle: \"))\n",
    "\n",
    "    obj = calculateTriangle(a,b,c)\n",
    "    obj.checkTriangle()\n",
    "    obj.calculateArea()\n",
    " \n",
    "    print()"
   ]
  },
  {
   "cell_type": "markdown",
   "metadata": {},
   "source": [
    "1.2 Write a function filter_long_words() that takes a list of words and an integer n and returns\n",
    "the list of words that are longer than n."
   ]
  },
  {
   "cell_type": "code",
   "execution_count": 2,
   "metadata": {},
   "outputs": [
    {
     "name": "stdout",
     "output_type": "stream",
     "text": [
      "Enter the words - (separate with space):one two three four five six seven eight nine ten\n",
      "Enter the word length to find:4\n",
      "The below words length is higher than the given word length\n",
      "three\n",
      "seven\n",
      "eight\n"
     ]
    }
   ],
   "source": [
    "def find_words(lst, n):\n",
    "    output_world_list = []\n",
    "    \n",
    "    print(\"The below words length is higher than the given word length\")\n",
    "    for word in lst:\n",
    "        if len(word) > n:\n",
    "            print(word)\n",
    "\n",
    "\n",
    "words = input(\"Enter the words - (separate with space):\")\n",
    "words = words.split(' ')\n",
    "word_length = int(input(\"Enter the word length to find:\"))\n",
    "\n",
    "find_words(words, word_length)\n"
   ]
  },
  {
   "cell_type": "markdown",
   "metadata": {},
   "source": [
    "2.1 Write a Python program using function concept that maps list of words into a list of integers\n",
    "representing the lengths of the corresponding words.\n",
    "\n",
    "Hint: If a list [ ab,cde,erty] is passed on to the python function output should come as [2,3,4]\n",
    "Here 2,3 and 4 are the lengths of the words in the list."
   ]
  },
  {
   "cell_type": "code",
   "execution_count": 3,
   "metadata": {},
   "outputs": [
    {
     "name": "stdout",
     "output_type": "stream",
     "text": [
      "Enter the words - (separate with space):one two three four\n",
      "[3, 3, 5, 4]\n"
     ]
    }
   ],
   "source": [
    "words = input(\"Enter the words - (separate with space):\")\n",
    "words = words.split(' ')\n",
    "\n",
    "word_count = []\n",
    "\n",
    "for word in words:\n",
    "    word_count.append(len(word))\n",
    "\n",
    "print(word_count)"
   ]
  },
  {
   "cell_type": "markdown",
   "metadata": {},
   "source": [
    "2.2 Write a Python function which takes a character (i.e. a string of length 1) and returns True if\n",
    "it is a vowel, False otherwise."
   ]
  },
  {
   "cell_type": "code",
   "execution_count": 4,
   "metadata": {},
   "outputs": [
    {
     "name": "stdout",
     "output_type": "stream",
     "text": [
      "Enter the letter:a\n",
      "True\n"
     ]
    }
   ],
   "source": [
    "letter = input(\"Enter the letter:\").lower()\n",
    "\n",
    "if letter == 'a' or letter == 'e' or letter == 'i' or letter == 'o' or letter == 'u':\n",
    "    print(\"True\")\n",
    "else:\n",
    "    print(\"False\")"
   ]
  },
  {
   "cell_type": "code",
   "execution_count": null,
   "metadata": {},
   "outputs": [],
   "source": []
  }
 ],
 "metadata": {
  "kernelspec": {
   "display_name": "Python 3",
   "language": "python",
   "name": "python3"
  },
  "language_info": {
   "codemirror_mode": {
    "name": "ipython",
    "version": 3
   },
   "file_extension": ".py",
   "mimetype": "text/x-python",
   "name": "python",
   "nbconvert_exporter": "python",
   "pygments_lexer": "ipython3",
   "version": "3.8.5"
  }
 },
 "nbformat": 4,
 "nbformat_minor": 4
}
