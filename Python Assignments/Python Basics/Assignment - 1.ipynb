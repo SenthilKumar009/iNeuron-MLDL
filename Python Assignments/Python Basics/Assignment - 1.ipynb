{
 "cells": [
  {
   "cell_type": "markdown",
   "metadata": {},
   "source": []
  },
  {
   "cell_type": "markdown",
   "metadata": {},
   "source": [
    "### 1. Write a program to which will find all such numbers which are divisible by 7 but are not a multiple of 5, between 2000 and 3200 (both include). The numbers obtained should be printed in a comma-separated sequance on a single line."
   ]
  },
  {
   "cell_type": "code",
   "execution_count": 2,
   "metadata": {},
   "outputs": [
    {
     "name": "stdout",
     "output_type": "stream",
     "text": [
      "The Sum of Number which is divisible by 7 and not by 5 is:358631\n"
     ]
    }
   ],
   "source": [
    "sum = 0\n",
    "for i in range (2000, 3201):\n",
    "    if i % 7 == 0 and i % 5 !=0:\n",
    "        sum += i\n",
    "print(f\"The Sum of Number which is divisible by 7 and not by 5 is:{sum}\")"
   ]
  },
  {
   "cell_type": "markdown",
   "metadata": {},
   "source": [
    "### 2. Write a Python program to accept the user's first and last name and then getting them printed in the the reverse order with a space between first name and last name."
   ]
  },
  {
   "cell_type": "code",
   "execution_count": 13,
   "metadata": {},
   "outputs": [
    {
     "name": "stdout",
     "output_type": "stream",
     "text": [
      "Enter the first name of the user: Senthil\n",
      "Enter the lasst name of the user: Kumar\n",
      "Name of the user is lihtneS ramuK\n"
     ]
    }
   ],
   "source": [
    "firstName = input(\"Enter the first name of the user: \")\n",
    "lastName = input(\"Enter the lasst name of the user: \")\n",
    "print(f\"Name of the user is {firstName[::-1]} {lastName[::-1]}\")"
   ]
  },
  {
   "cell_type": "markdown",
   "metadata": {},
   "source": [
    "### 3. Write a Python program to find the volume of a sphere with diameter 12 cm."
   ]
  },
  {
   "cell_type": "code",
   "execution_count": 6,
   "metadata": {},
   "outputs": [
    {
     "name": "stdout",
     "output_type": "stream",
     "text": [
      "Enter the value for r:12\n",
      "The Volume of a sphere with the diameter 12 is: 7238.229473870882\n"
     ]
    }
   ],
   "source": [
    "### Formula: V=4/3 * π * r 3\n",
    "import math\n",
    "r = int(input(\"Enter the value for r:\"))\n",
    "print(f\"The Volume of a sphere with the diameter {r} is: {(4/3) * math.pi * math.pow(r, 3)}\")"
   ]
  }
 ],
 "metadata": {
  "kernelspec": {
   "display_name": "Python 3",
   "language": "python",
   "name": "python3"
  },
  "language_info": {
   "codemirror_mode": {
    "name": "ipython",
    "version": 3
   },
   "file_extension": ".py",
   "mimetype": "text/x-python",
   "name": "python",
   "nbconvert_exporter": "python",
   "pygments_lexer": "ipython3",
   "version": "3.8.5"
  }
 },
 "nbformat": 4,
 "nbformat_minor": 4
}
